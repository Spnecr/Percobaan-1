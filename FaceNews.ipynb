{
 "cells": [
  {
   "cell_type": "code",
   "execution_count": 1,
   "metadata": {},
   "outputs": [],
   "source": [
    "import numpy as np\n",
    "import re\n",
    "import pandas as pd\n",
    "from nltk.corpus import stopwords\n",
    "from nltk.stem.porter import PorterStemmer\n",
    "from sklearn.feature_extraction.text import TfidfVectorizer\n",
    "from sklearn.model_selection import train_test_split\n",
    "from sklearn.linear_model import LogisticRegression\n",
    "from sklearn.metrics import accuracy_score"
   ]
  },
  {
   "cell_type": "code",
   "execution_count": 2,
   "metadata": {},
   "outputs": [],
   "source": [
    "news_df = pd.read_csv('data.csv')"
   ]
  },
  {
   "cell_type": "code",
   "execution_count": 3,
   "metadata": {},
   "outputs": [
    {
     "data": {
      "text/html": [
       "<div>\n",
       "<style scoped>\n",
       "    .dataframe tbody tr th:only-of-type {\n",
       "        vertical-align: middle;\n",
       "    }\n",
       "\n",
       "    .dataframe tbody tr th {\n",
       "        vertical-align: top;\n",
       "    }\n",
       "\n",
       "    .dataframe thead th {\n",
       "        text-align: right;\n",
       "    }\n",
       "</style>\n",
       "<table border=\"1\" class=\"dataframe\">\n",
       "  <thead>\n",
       "    <tr style=\"text-align: right;\">\n",
       "      <th></th>\n",
       "      <th>id</th>\n",
       "      <th>label</th>\n",
       "      <th>date</th>\n",
       "      <th>title</th>\n",
       "      <th>summary</th>\n",
       "      <th>source</th>\n",
       "    </tr>\n",
       "  </thead>\n",
       "  <tbody>\n",
       "    <tr>\n",
       "      <th>0</th>\n",
       "      <td>83</td>\n",
       "      <td>1</td>\n",
       "      <td>2023-03-04 06:18:13+00</td>\n",
       "      <td>Depo Plumpang Terbakar, Anggota DPR Minta Pert...</td>\n",
       "      <td>Anggota Komisi VII DPR RI Rofik Hananto menyay...</td>\n",
       "      <td>tempo</td>\n",
       "    </tr>\n",
       "    <tr>\n",
       "      <th>1</th>\n",
       "      <td>84</td>\n",
       "      <td>0</td>\n",
       "      <td>2023-03-04 06:04:38+00</td>\n",
       "      <td>Jokowi Perintahkan Wapres Ma'ruf Amin Tinjau L...</td>\n",
       "      <td>Presiden Joko Widodo telah memerintahkan Wakil...</td>\n",
       "      <td>tempo</td>\n",
       "    </tr>\n",
       "    <tr>\n",
       "      <th>2</th>\n",
       "      <td>85</td>\n",
       "      <td>0</td>\n",
       "      <td>2023-03-04 06:18:04+00</td>\n",
       "      <td>HNW Mendukung Jamaah Umroh First Travel Dapatk...</td>\n",
       "      <td>Wakil Ketua MPR RI Dr. H. M. Hidayat Nur Wahid...</td>\n",
       "      <td>tempo</td>\n",
       "    </tr>\n",
       "    <tr>\n",
       "      <th>3</th>\n",
       "      <td>86</td>\n",
       "      <td>0</td>\n",
       "      <td>2023-03-04 06:44:10+00</td>\n",
       "      <td>Tim Dokkes Polri Telah Terima 14 Kantong Jenaz...</td>\n",
       "      <td>Tim Kedokteran dan Kesehatan (Dokkes) Polri te...</td>\n",
       "      <td>tempo</td>\n",
       "    </tr>\n",
       "    <tr>\n",
       "      <th>4</th>\n",
       "      <td>87</td>\n",
       "      <td>0</td>\n",
       "      <td>2023-03-04 06:38:57+00</td>\n",
       "      <td>Bamsoet Ajak Komunitas Otomotif Kembangkan Per...</td>\n",
       "      <td>Ketua MPR RI Bambang Soesatyo telah diangkat s...</td>\n",
       "      <td>tempo</td>\n",
       "    </tr>\n",
       "  </tbody>\n",
       "</table>\n",
       "</div>"
      ],
      "text/plain": [
       "   id  label                    date  \\\n",
       "0  83      1  2023-03-04 06:18:13+00   \n",
       "1  84      0  2023-03-04 06:04:38+00   \n",
       "2  85      0  2023-03-04 06:18:04+00   \n",
       "3  86      0  2023-03-04 06:44:10+00   \n",
       "4  87      0  2023-03-04 06:38:57+00   \n",
       "\n",
       "                                               title  \\\n",
       "0  Depo Plumpang Terbakar, Anggota DPR Minta Pert...   \n",
       "1  Jokowi Perintahkan Wapres Ma'ruf Amin Tinjau L...   \n",
       "2  HNW Mendukung Jamaah Umroh First Travel Dapatk...   \n",
       "3  Tim Dokkes Polri Telah Terima 14 Kantong Jenaz...   \n",
       "4  Bamsoet Ajak Komunitas Otomotif Kembangkan Per...   \n",
       "\n",
       "                                             summary source  \n",
       "0  Anggota Komisi VII DPR RI Rofik Hananto menyay...  tempo  \n",
       "1  Presiden Joko Widodo telah memerintahkan Wakil...  tempo  \n",
       "2  Wakil Ketua MPR RI Dr. H. M. Hidayat Nur Wahid...  tempo  \n",
       "3  Tim Kedokteran dan Kesehatan (Dokkes) Polri te...  tempo  \n",
       "4  Ketua MPR RI Bambang Soesatyo telah diangkat s...  tempo  "
      ]
     },
     "execution_count": 3,
     "metadata": {},
     "output_type": "execute_result"
    }
   ],
   "source": [
    "news_df.head()"
   ]
  },
  {
   "cell_type": "code",
   "execution_count": 4,
   "metadata": {},
   "outputs": [
    {
     "data": {
      "text/plain": [
       "id          0\n",
       "label       0\n",
       "date        0\n",
       "title       0\n",
       "summary    10\n",
       "source      0\n",
       "dtype: int64"
      ]
     },
     "execution_count": 4,
     "metadata": {},
     "output_type": "execute_result"
    }
   ],
   "source": [
    "news_df.isnull().sum()"
   ]
  },
  {
   "cell_type": "code",
   "execution_count": 5,
   "metadata": {},
   "outputs": [
    {
     "data": {
      "text/plain": [
       "(22009, 6)"
      ]
     },
     "execution_count": 5,
     "metadata": {},
     "output_type": "execute_result"
    }
   ],
   "source": [
    "news_df.shape"
   ]
  },
  {
   "cell_type": "code",
   "execution_count": 6,
   "metadata": {},
   "outputs": [],
   "source": [
    "news_df = news_df.fillna(' ')"
   ]
  },
  {
   "cell_type": "code",
   "execution_count": 7,
   "metadata": {},
   "outputs": [
    {
     "data": {
      "text/plain": [
       "id         0\n",
       "label      0\n",
       "date       0\n",
       "title      0\n",
       "summary    0\n",
       "source     0\n",
       "dtype: int64"
      ]
     },
     "execution_count": 7,
     "metadata": {},
     "output_type": "execute_result"
    }
   ],
   "source": [
    "news_df.isnull().sum()"
   ]
  },
  {
   "cell_type": "code",
   "execution_count": 8,
   "metadata": {},
   "outputs": [],
   "source": [
    "news_df['konten'] = news_df['title']+' '+news_df['summary']"
   ]
  },
  {
   "cell_type": "code",
   "execution_count": 9,
   "metadata": {},
   "outputs": [
    {
     "data": {
      "text/html": [
       "<div>\n",
       "<style scoped>\n",
       "    .dataframe tbody tr th:only-of-type {\n",
       "        vertical-align: middle;\n",
       "    }\n",
       "\n",
       "    .dataframe tbody tr th {\n",
       "        vertical-align: top;\n",
       "    }\n",
       "\n",
       "    .dataframe thead th {\n",
       "        text-align: right;\n",
       "    }\n",
       "</style>\n",
       "<table border=\"1\" class=\"dataframe\">\n",
       "  <thead>\n",
       "    <tr style=\"text-align: right;\">\n",
       "      <th></th>\n",
       "      <th>id</th>\n",
       "      <th>label</th>\n",
       "      <th>date</th>\n",
       "      <th>title</th>\n",
       "      <th>summary</th>\n",
       "      <th>source</th>\n",
       "      <th>konten</th>\n",
       "    </tr>\n",
       "  </thead>\n",
       "  <tbody>\n",
       "    <tr>\n",
       "      <th>0</th>\n",
       "      <td>83</td>\n",
       "      <td>1</td>\n",
       "      <td>2023-03-04 06:18:13+00</td>\n",
       "      <td>Depo Plumpang Terbakar, Anggota DPR Minta Pert...</td>\n",
       "      <td>Anggota Komisi VII DPR RI Rofik Hananto menyay...</td>\n",
       "      <td>tempo</td>\n",
       "      <td>Depo Plumpang Terbakar, Anggota DPR Minta Pert...</td>\n",
       "    </tr>\n",
       "    <tr>\n",
       "      <th>1</th>\n",
       "      <td>84</td>\n",
       "      <td>0</td>\n",
       "      <td>2023-03-04 06:04:38+00</td>\n",
       "      <td>Jokowi Perintahkan Wapres Ma'ruf Amin Tinjau L...</td>\n",
       "      <td>Presiden Joko Widodo telah memerintahkan Wakil...</td>\n",
       "      <td>tempo</td>\n",
       "      <td>Jokowi Perintahkan Wapres Ma'ruf Amin Tinjau L...</td>\n",
       "    </tr>\n",
       "    <tr>\n",
       "      <th>2</th>\n",
       "      <td>85</td>\n",
       "      <td>0</td>\n",
       "      <td>2023-03-04 06:18:04+00</td>\n",
       "      <td>HNW Mendukung Jamaah Umroh First Travel Dapatk...</td>\n",
       "      <td>Wakil Ketua MPR RI Dr. H. M. Hidayat Nur Wahid...</td>\n",
       "      <td>tempo</td>\n",
       "      <td>HNW Mendukung Jamaah Umroh First Travel Dapatk...</td>\n",
       "    </tr>\n",
       "    <tr>\n",
       "      <th>3</th>\n",
       "      <td>86</td>\n",
       "      <td>0</td>\n",
       "      <td>2023-03-04 06:44:10+00</td>\n",
       "      <td>Tim Dokkes Polri Telah Terima 14 Kantong Jenaz...</td>\n",
       "      <td>Tim Kedokteran dan Kesehatan (Dokkes) Polri te...</td>\n",
       "      <td>tempo</td>\n",
       "      <td>Tim Dokkes Polri Telah Terima 14 Kantong Jenaz...</td>\n",
       "    </tr>\n",
       "    <tr>\n",
       "      <th>4</th>\n",
       "      <td>87</td>\n",
       "      <td>0</td>\n",
       "      <td>2023-03-04 06:38:57+00</td>\n",
       "      <td>Bamsoet Ajak Komunitas Otomotif Kembangkan Per...</td>\n",
       "      <td>Ketua MPR RI Bambang Soesatyo telah diangkat s...</td>\n",
       "      <td>tempo</td>\n",
       "      <td>Bamsoet Ajak Komunitas Otomotif Kembangkan Per...</td>\n",
       "    </tr>\n",
       "    <tr>\n",
       "      <th>...</th>\n",
       "      <td>...</td>\n",
       "      <td>...</td>\n",
       "      <td>...</td>\n",
       "      <td>...</td>\n",
       "      <td>...</td>\n",
       "      <td>...</td>\n",
       "      <td>...</td>\n",
       "    </tr>\n",
       "    <tr>\n",
       "      <th>22004</th>\n",
       "      <td>44725</td>\n",
       "      <td>0</td>\n",
       "      <td>2023-04-02 05:46:00+00</td>\n",
       "      <td>Indonesia Batal Jadi Tuan Rumah Piala Dunia U-...</td>\n",
       "      <td>Jokowi mengaku pusing dengan urusan Piala Duni...</td>\n",
       "      <td>tempo</td>\n",
       "      <td>Indonesia Batal Jadi Tuan Rumah Piala Dunia U-...</td>\n",
       "    </tr>\n",
       "    <tr>\n",
       "      <th>22005</th>\n",
       "      <td>44726</td>\n",
       "      <td>0</td>\n",
       "      <td>2023-04-02 05:58:27+00</td>\n",
       "      <td>Rentetan Kebakaran Pertamina 2023: Depo Plumpa...</td>\n",
       "      <td>Sejumlah kebakaran terjadi pada 2023 yang terk...</td>\n",
       "      <td>tempo</td>\n",
       "      <td>Rentetan Kebakaran Pertamina 2023: Depo Plumpa...</td>\n",
       "    </tr>\n",
       "    <tr>\n",
       "      <th>22006</th>\n",
       "      <td>44733</td>\n",
       "      <td>0</td>\n",
       "      <td>2023-04-02 06:00:00+00</td>\n",
       "      <td>Update Ledakan di Kilang Dumai: Pertamina Foku...</td>\n",
       "      <td>PT Kilang Pertamina Internasional (PT KPI) Ref...</td>\n",
       "      <td>cnbcindonesia</td>\n",
       "      <td>Update Ledakan di Kilang Dumai: Pertamina Foku...</td>\n",
       "    </tr>\n",
       "    <tr>\n",
       "      <th>22007</th>\n",
       "      <td>44745</td>\n",
       "      <td>0</td>\n",
       "      <td>2023-04-02 06:09:55+00</td>\n",
       "      <td>Rilis Lagu Marhaban Yaa Ramadhan Ayu Azhari Li...</td>\n",
       "      <td>Ayu Ting-Ting merilis single religi \"Marhaban ...</td>\n",
       "      <td>kumparan</td>\n",
       "      <td>Rilis Lagu Marhaban Yaa Ramadhan Ayu Azhari Li...</td>\n",
       "    </tr>\n",
       "    <tr>\n",
       "      <th>22008</th>\n",
       "      <td>44746</td>\n",
       "      <td>0</td>\n",
       "      <td>2023-04-02 06:05:27+00</td>\n",
       "      <td>Polisi Bakal Ekshumasi Jenazah Istri yang Dira...</td>\n",
       "      <td>Satreskrim Polres Tulang Bawang berencana mela...</td>\n",
       "      <td>kumparan</td>\n",
       "      <td>Polisi Bakal Ekshumasi Jenazah Istri yang Dira...</td>\n",
       "    </tr>\n",
       "  </tbody>\n",
       "</table>\n",
       "<p>22009 rows × 7 columns</p>\n",
       "</div>"
      ],
      "text/plain": [
       "          id  label                    date  \\\n",
       "0         83      1  2023-03-04 06:18:13+00   \n",
       "1         84      0  2023-03-04 06:04:38+00   \n",
       "2         85      0  2023-03-04 06:18:04+00   \n",
       "3         86      0  2023-03-04 06:44:10+00   \n",
       "4         87      0  2023-03-04 06:38:57+00   \n",
       "...      ...    ...                     ...   \n",
       "22004  44725      0  2023-04-02 05:46:00+00   \n",
       "22005  44726      0  2023-04-02 05:58:27+00   \n",
       "22006  44733      0  2023-04-02 06:00:00+00   \n",
       "22007  44745      0  2023-04-02 06:09:55+00   \n",
       "22008  44746      0  2023-04-02 06:05:27+00   \n",
       "\n",
       "                                                   title  \\\n",
       "0      Depo Plumpang Terbakar, Anggota DPR Minta Pert...   \n",
       "1      Jokowi Perintahkan Wapres Ma'ruf Amin Tinjau L...   \n",
       "2      HNW Mendukung Jamaah Umroh First Travel Dapatk...   \n",
       "3      Tim Dokkes Polri Telah Terima 14 Kantong Jenaz...   \n",
       "4      Bamsoet Ajak Komunitas Otomotif Kembangkan Per...   \n",
       "...                                                  ...   \n",
       "22004  Indonesia Batal Jadi Tuan Rumah Piala Dunia U-...   \n",
       "22005  Rentetan Kebakaran Pertamina 2023: Depo Plumpa...   \n",
       "22006  Update Ledakan di Kilang Dumai: Pertamina Foku...   \n",
       "22007  Rilis Lagu Marhaban Yaa Ramadhan Ayu Azhari Li...   \n",
       "22008  Polisi Bakal Ekshumasi Jenazah Istri yang Dira...   \n",
       "\n",
       "                                                 summary         source  \\\n",
       "0      Anggota Komisi VII DPR RI Rofik Hananto menyay...          tempo   \n",
       "1      Presiden Joko Widodo telah memerintahkan Wakil...          tempo   \n",
       "2      Wakil Ketua MPR RI Dr. H. M. Hidayat Nur Wahid...          tempo   \n",
       "3      Tim Kedokteran dan Kesehatan (Dokkes) Polri te...          tempo   \n",
       "4      Ketua MPR RI Bambang Soesatyo telah diangkat s...          tempo   \n",
       "...                                                  ...            ...   \n",
       "22004  Jokowi mengaku pusing dengan urusan Piala Duni...          tempo   \n",
       "22005  Sejumlah kebakaran terjadi pada 2023 yang terk...          tempo   \n",
       "22006  PT Kilang Pertamina Internasional (PT KPI) Ref...  cnbcindonesia   \n",
       "22007  Ayu Ting-Ting merilis single religi \"Marhaban ...       kumparan   \n",
       "22008  Satreskrim Polres Tulang Bawang berencana mela...       kumparan   \n",
       "\n",
       "                                                  konten  \n",
       "0      Depo Plumpang Terbakar, Anggota DPR Minta Pert...  \n",
       "1      Jokowi Perintahkan Wapres Ma'ruf Amin Tinjau L...  \n",
       "2      HNW Mendukung Jamaah Umroh First Travel Dapatk...  \n",
       "3      Tim Dokkes Polri Telah Terima 14 Kantong Jenaz...  \n",
       "4      Bamsoet Ajak Komunitas Otomotif Kembangkan Per...  \n",
       "...                                                  ...  \n",
       "22004  Indonesia Batal Jadi Tuan Rumah Piala Dunia U-...  \n",
       "22005  Rentetan Kebakaran Pertamina 2023: Depo Plumpa...  \n",
       "22006  Update Ledakan di Kilang Dumai: Pertamina Foku...  \n",
       "22007  Rilis Lagu Marhaban Yaa Ramadhan Ayu Azhari Li...  \n",
       "22008  Polisi Bakal Ekshumasi Jenazah Istri yang Dira...  \n",
       "\n",
       "[22009 rows x 7 columns]"
      ]
     },
     "execution_count": 9,
     "metadata": {},
     "output_type": "execute_result"
    }
   ],
   "source": [
    "news_df"
   ]
  },
  {
   "cell_type": "code",
   "execution_count": 10,
   "metadata": {},
   "outputs": [],
   "source": [
    "X = news_df.drop('label',axis=1)\n",
    "y = news_df['label']"
   ]
  },
  {
   "cell_type": "code",
   "execution_count": 11,
   "metadata": {},
   "outputs": [
    {
     "name": "stdout",
     "output_type": "stream",
     "text": [
      "          id                    date  \\\n",
      "0         83  2023-03-04 06:18:13+00   \n",
      "1         84  2023-03-04 06:04:38+00   \n",
      "2         85  2023-03-04 06:18:04+00   \n",
      "3         86  2023-03-04 06:44:10+00   \n",
      "4         87  2023-03-04 06:38:57+00   \n",
      "...      ...                     ...   \n",
      "22004  44725  2023-04-02 05:46:00+00   \n",
      "22005  44726  2023-04-02 05:58:27+00   \n",
      "22006  44733  2023-04-02 06:00:00+00   \n",
      "22007  44745  2023-04-02 06:09:55+00   \n",
      "22008  44746  2023-04-02 06:05:27+00   \n",
      "\n",
      "                                                   title  \\\n",
      "0      Depo Plumpang Terbakar, Anggota DPR Minta Pert...   \n",
      "1      Jokowi Perintahkan Wapres Ma'ruf Amin Tinjau L...   \n",
      "2      HNW Mendukung Jamaah Umroh First Travel Dapatk...   \n",
      "3      Tim Dokkes Polri Telah Terima 14 Kantong Jenaz...   \n",
      "4      Bamsoet Ajak Komunitas Otomotif Kembangkan Per...   \n",
      "...                                                  ...   \n",
      "22004  Indonesia Batal Jadi Tuan Rumah Piala Dunia U-...   \n",
      "22005  Rentetan Kebakaran Pertamina 2023: Depo Plumpa...   \n",
      "22006  Update Ledakan di Kilang Dumai: Pertamina Foku...   \n",
      "22007  Rilis Lagu Marhaban Yaa Ramadhan Ayu Azhari Li...   \n",
      "22008  Polisi Bakal Ekshumasi Jenazah Istri yang Dira...   \n",
      "\n",
      "                                                 summary         source  \\\n",
      "0      Anggota Komisi VII DPR RI Rofik Hananto menyay...          tempo   \n",
      "1      Presiden Joko Widodo telah memerintahkan Wakil...          tempo   \n",
      "2      Wakil Ketua MPR RI Dr. H. M. Hidayat Nur Wahid...          tempo   \n",
      "3      Tim Kedokteran dan Kesehatan (Dokkes) Polri te...          tempo   \n",
      "4      Ketua MPR RI Bambang Soesatyo telah diangkat s...          tempo   \n",
      "...                                                  ...            ...   \n",
      "22004  Jokowi mengaku pusing dengan urusan Piala Duni...          tempo   \n",
      "22005  Sejumlah kebakaran terjadi pada 2023 yang terk...          tempo   \n",
      "22006  PT Kilang Pertamina Internasional (PT KPI) Ref...  cnbcindonesia   \n",
      "22007  Ayu Ting-Ting merilis single religi \"Marhaban ...       kumparan   \n",
      "22008  Satreskrim Polres Tulang Bawang berencana mela...       kumparan   \n",
      "\n",
      "                                                  konten  \n",
      "0      Depo Plumpang Terbakar, Anggota DPR Minta Pert...  \n",
      "1      Jokowi Perintahkan Wapres Ma'ruf Amin Tinjau L...  \n",
      "2      HNW Mendukung Jamaah Umroh First Travel Dapatk...  \n",
      "3      Tim Dokkes Polri Telah Terima 14 Kantong Jenaz...  \n",
      "4      Bamsoet Ajak Komunitas Otomotif Kembangkan Per...  \n",
      "...                                                  ...  \n",
      "22004  Indonesia Batal Jadi Tuan Rumah Piala Dunia U-...  \n",
      "22005  Rentetan Kebakaran Pertamina 2023: Depo Plumpa...  \n",
      "22006  Update Ledakan di Kilang Dumai: Pertamina Foku...  \n",
      "22007  Rilis Lagu Marhaban Yaa Ramadhan Ayu Azhari Li...  \n",
      "22008  Polisi Bakal Ekshumasi Jenazah Istri yang Dira...  \n",
      "\n",
      "[22009 rows x 6 columns]\n"
     ]
    }
   ],
   "source": [
    "print(X)"
   ]
  },
  {
   "cell_type": "code",
   "execution_count": 12,
   "metadata": {},
   "outputs": [],
   "source": [
    "ps = PorterStemmer()\n",
    "def stemming(content):\n",
    "    stemmed_content = re.sub('[^a-zA-Z]',' ',content)\n",
    "    stemmed_content = stemmed_content.lower()\n",
    "    stemmed_content = stemmed_content.split()\n",
    "    stemmed_content = [ps.stem(word) for word in stemmed_content if not word in stopwords.words('english')]\n",
    "    stemmed_content = ' '.join(stemmed_content)\n",
    "    return stemmed_content"
   ]
  },
  {
   "cell_type": "code",
   "execution_count": 13,
   "metadata": {},
   "outputs": [],
   "source": [
    "news_df['konten'] = news_df['konten'].apply(stemming)"
   ]
  },
  {
   "cell_type": "code",
   "execution_count": 14,
   "metadata": {},
   "outputs": [
    {
     "data": {
      "text/plain": [
       "0        depo plumpang terbakar anggota dpr minta perta...\n",
       "1        jokowi perintahkan wapr ruf amin tinjau lokasi...\n",
       "2        hnw mendukung jamaah umroh first travel dapatk...\n",
       "3        tim dokk polri telah terima kantong jenazah ko...\n",
       "4        bamsoet ajak komunita otomotif kembangkan pere...\n",
       "                               ...                        \n",
       "22004    indonesia batal jadi tuan rumah piala dunia u ...\n",
       "22005    rentetan kebakaran pertamina depo plumpang kap...\n",
       "22006    updat ledakan di kilang dumai pertamina foku p...\n",
       "22007    rili lagu marhaban yaa ramadhan ayu azhari lib...\n",
       "22008    polisi bakal ekshumasi jenazah istri yang dira...\n",
       "Name: konten, Length: 22009, dtype: object"
      ]
     },
     "execution_count": 14,
     "metadata": {},
     "output_type": "execute_result"
    }
   ],
   "source": [
    "news_df['konten']"
   ]
  },
  {
   "cell_type": "code",
   "execution_count": 15,
   "metadata": {},
   "outputs": [],
   "source": [
    "X = news_df['konten'].values\n",
    "y = news_df['label'].values"
   ]
  },
  {
   "cell_type": "code",
   "execution_count": 16,
   "metadata": {},
   "outputs": [],
   "source": [
    "vector = TfidfVectorizer()\n",
    "vector.fit(X)\n",
    "X = vector.transform(X)"
   ]
  },
  {
   "cell_type": "code",
   "execution_count": 17,
   "metadata": {},
   "outputs": [
    {
     "name": "stdout",
     "output_type": "stream",
     "text": [
      "  (0, 37138)\t0.15458624525015574\n",
      "  (0, 36958)\t0.09475166694700932\n",
      "  (0, 35598)\t0.07926465709832897\n",
      "  (0, 35463)\t0.04816033708235881\n",
      "  (0, 35182)\t0.12267196566140516\n",
      "  (0, 35094)\t0.13981669189729012\n",
      "  (0, 34959)\t0.11713933748490761\n",
      "  (0, 34207)\t0.07344092189336457\n",
      "  (0, 30248)\t0.41936577653209967\n",
      "  (0, 30022)\t0.07369382139356111\n",
      "  (0, 28048)\t0.3571708583040855\n",
      "  (0, 27511)\t0.20064029247816492\n",
      "  (0, 25328)\t0.12157194085832829\n",
      "  (0, 25313)\t0.23559140189658995\n",
      "  (0, 24787)\t0.04041653356296567\n",
      "  (0, 22727)\t0.107269719161015\n",
      "  (0, 22719)\t0.09742753477600082\n",
      "  (0, 22448)\t0.08520712444164671\n",
      "  (0, 22431)\t0.20968288826604983\n",
      "  (0, 22052)\t0.1379373102516397\n",
      "  (0, 20930)\t0.08890758738742327\n",
      "  (0, 20080)\t0.09061688618321227\n",
      "  (0, 19356)\t0.07017401624875215\n",
      "  (0, 16913)\t0.09157449835832399\n",
      "  (0, 15173)\t0.10460272064473308\n",
      "  :\t:\n",
      "  (22008, 17175)\t0.24530438648834113\n",
      "  (22008, 15985)\t0.08212208595988277\n",
      "  (22008, 15703)\t0.10064698896050997\n",
      "  (22008, 15011)\t0.054805506765301826\n",
      "  (22008, 14891)\t0.044195344552037066\n",
      "  (22008, 14762)\t0.14644202379902088\n",
      "  (22008, 14114)\t0.10599967266707282\n",
      "  (22008, 13672)\t0.08303121137056438\n",
      "  (22008, 12073)\t0.09367321383724661\n",
      "  (22008, 11863)\t0.12155581927291631\n",
      "  (22008, 9414)\t0.354518587110827\n",
      "  (22008, 9103)\t0.06358214992147974\n",
      "  (22008, 8116)\t0.32299920167499746\n",
      "  (22008, 7318)\t0.08013037510398144\n",
      "  (22008, 6780)\t0.023083596802483255\n",
      "  (22008, 6613)\t0.07425247667254371\n",
      "  (22008, 6590)\t0.029606207715006005\n",
      "  (22008, 6344)\t0.03436923498412781\n",
      "  (22008, 4808)\t0.08049829171521526\n",
      "  (22008, 3158)\t0.17836243661823423\n",
      "  (22008, 2889)\t0.2298452767263826\n",
      "  (22008, 2647)\t0.117383893557641\n",
      "  (22008, 2479)\t0.0734523581881638\n",
      "  (22008, 2216)\t0.07910016026838987\n",
      "  (22008, 209)\t0.11217332930595628\n"
     ]
    }
   ],
   "source": [
    "print(X)"
   ]
  },
  {
   "cell_type": "code",
   "execution_count": 18,
   "metadata": {},
   "outputs": [],
   "source": [
    "X_train, X_test, Y_train, Y_test = train_test_split(X, y, test_size = 0.2, stratify=y, random_state=2)"
   ]
  },
  {
   "cell_type": "code",
   "execution_count": 19,
   "metadata": {},
   "outputs": [
    {
     "data": {
      "text/plain": [
       "(17607, 38356)"
      ]
     },
     "execution_count": 19,
     "metadata": {},
     "output_type": "execute_result"
    }
   ],
   "source": [
    "X_train.shape"
   ]
  },
  {
   "cell_type": "code",
   "execution_count": 20,
   "metadata": {},
   "outputs": [
    {
     "name": "stderr",
     "output_type": "stream",
     "text": [
      "c:\\Users\\fikri\\AppData\\Local\\Programs\\Python\\Python37\\lib\\site-packages\\sklearn\\linear_model\\_logistic.py:818: ConvergenceWarning: lbfgs failed to converge (status=1):\n",
      "STOP: TOTAL NO. of ITERATIONS REACHED LIMIT.\n",
      "\n",
      "Increase the number of iterations (max_iter) or scale the data as shown in:\n",
      "    https://scikit-learn.org/stable/modules/preprocessing.html\n",
      "Please also refer to the documentation for alternative solver options:\n",
      "    https://scikit-learn.org/stable/modules/linear_model.html#logistic-regression\n",
      "  extra_warning_msg=_LOGISTIC_SOLVER_CONVERGENCE_MSG,\n"
     ]
    },
    {
     "data": {
      "text/plain": [
       "LogisticRegression()"
      ]
     },
     "execution_count": 20,
     "metadata": {},
     "output_type": "execute_result"
    }
   ],
   "source": [
    "model = LogisticRegression()\n",
    "model.fit(X_train,Y_train)"
   ]
  },
  {
   "cell_type": "code",
   "execution_count": 21,
   "metadata": {},
   "outputs": [
    {
     "name": "stdout",
     "output_type": "stream",
     "text": [
      "0.7736695632418924\n"
     ]
    }
   ],
   "source": [
    "# on training set\n",
    "train_y_pred = model.predict(X_train)\n",
    "print(accuracy_score(train_y_pred,Y_train))"
   ]
  },
  {
   "cell_type": "code",
   "execution_count": 22,
   "metadata": {},
   "outputs": [
    {
     "name": "stdout",
     "output_type": "stream",
     "text": [
      "0.5390731485688324\n"
     ]
    }
   ],
   "source": [
    "# on testing set\n",
    "testing_y_pred = model.predict(X_test)\n",
    "print(accuracy_score(testing_y_pred,Y_test))"
   ]
  },
  {
   "cell_type": "code",
   "execution_count": 23,
   "metadata": {},
   "outputs": [],
   "source": [
    "input_data = X_test[10]\n",
    "prediction = model.predict(input_data)"
   ]
  },
  {
   "cell_type": "code",
   "execution_count": 24,
   "metadata": {},
   "outputs": [
    {
     "name": "stdout",
     "output_type": "stream",
     "text": [
      "The News Is Real\n"
     ]
    }
   ],
   "source": [
    "if prediction[0] == 0:\n",
    "    print('The News Is Real')\n",
    "else:\n",
    "    print('The News is Fake')"
   ]
  },
  {
   "cell_type": "code",
   "execution_count": 25,
   "metadata": {},
   "outputs": [
    {
     "data": {
      "text/plain": [
       "'hnw mendukung jamaah umroh first travel dapatkan haknya wakil ketua mpr ri dr h hidayat nur wahid atau hnw menerima kunjungan perwakilan korban kasu biro perjalanan haji dan umroh first travel yang tergabung dalam paguyuban first travel indonesia pertemuan tersebut berlangsung di ruang kerja wakil ketua mpr gedung n'"
      ]
     },
     "execution_count": 25,
     "metadata": {},
     "output_type": "execute_result"
    }
   ],
   "source": [
    "news_df['konten'][2]"
   ]
  }
 ],
 "metadata": {
  "kernelspec": {
   "display_name": "Python 3",
   "language": "python",
   "name": "python3"
  },
  "language_info": {
   "codemirror_mode": {
    "name": "ipython",
    "version": 3
   },
   "file_extension": ".py",
   "mimetype": "text/x-python",
   "name": "python",
   "nbconvert_exporter": "python",
   "pygments_lexer": "ipython3",
   "version": "3.7.6"
  }
 },
 "nbformat": 4,
 "nbformat_minor": 2
}
