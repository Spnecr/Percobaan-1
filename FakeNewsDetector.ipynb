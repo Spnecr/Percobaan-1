{
 "cells": [
  {
   "cell_type": "code",
   "execution_count": 3,
   "metadata": {},
   "outputs": [],
   "source": [
    "import numpy as np\n",
    "import pandas as pd\n",
    "import re\n",
    "from nltk.corpus import stopwords \n",
    "from nltk.stem.porter import PorterStemmer \n",
    "from sklearn.feature_extraction.text import TfidfVectorizer \n",
    "from sklearn.model_selection import train_test_split\n",
    "from sklearn.linear_model import LogisticRegression\n",
    "from sklearn.metrics import accuracy_score"
   ]
  },
  {
   "cell_type": "code",
   "execution_count": 4,
   "metadata": {},
   "outputs": [],
   "source": [
    "news_df = pd.read_csv('data.csv')"
   ]
  },
  {
   "cell_type": "code",
   "execution_count": 5,
   "metadata": {},
   "outputs": [
    {
     "data": {
      "text/html": [
       "<div>\n",
       "<style scoped>\n",
       "    .dataframe tbody tr th:only-of-type {\n",
       "        vertical-align: middle;\n",
       "    }\n",
       "\n",
       "    .dataframe tbody tr th {\n",
       "        vertical-align: top;\n",
       "    }\n",
       "\n",
       "    .dataframe thead th {\n",
       "        text-align: right;\n",
       "    }\n",
       "</style>\n",
       "<table border=\"1\" class=\"dataframe\">\n",
       "  <thead>\n",
       "    <tr style=\"text-align: right;\">\n",
       "      <th></th>\n",
       "      <th>id</th>\n",
       "      <th>label</th>\n",
       "      <th>date</th>\n",
       "      <th>title</th>\n",
       "      <th>summary</th>\n",
       "      <th>source</th>\n",
       "    </tr>\n",
       "  </thead>\n",
       "  <tbody>\n",
       "    <tr>\n",
       "      <th>0</th>\n",
       "      <td>83</td>\n",
       "      <td>1</td>\n",
       "      <td>2023-03-04 06:18:13+00</td>\n",
       "      <td>Depo Plumpang Terbakar, Anggota DPR Minta Pert...</td>\n",
       "      <td>Anggota Komisi VII DPR RI Rofik Hananto menyay...</td>\n",
       "      <td>tempo</td>\n",
       "    </tr>\n",
       "    <tr>\n",
       "      <th>1</th>\n",
       "      <td>84</td>\n",
       "      <td>0</td>\n",
       "      <td>2023-03-04 06:04:38+00</td>\n",
       "      <td>Jokowi Perintahkan Wapres Ma'ruf Amin Tinjau L...</td>\n",
       "      <td>Presiden Joko Widodo telah memerintahkan Wakil...</td>\n",
       "      <td>tempo</td>\n",
       "    </tr>\n",
       "    <tr>\n",
       "      <th>2</th>\n",
       "      <td>85</td>\n",
       "      <td>0</td>\n",
       "      <td>2023-03-04 06:18:04+00</td>\n",
       "      <td>HNW Mendukung Jamaah Umroh First Travel Dapatk...</td>\n",
       "      <td>Wakil Ketua MPR RI Dr. H. M. Hidayat Nur Wahid...</td>\n",
       "      <td>tempo</td>\n",
       "    </tr>\n",
       "    <tr>\n",
       "      <th>3</th>\n",
       "      <td>86</td>\n",
       "      <td>0</td>\n",
       "      <td>2023-03-04 06:44:10+00</td>\n",
       "      <td>Tim Dokkes Polri Telah Terima 14 Kantong Jenaz...</td>\n",
       "      <td>Tim Kedokteran dan Kesehatan (Dokkes) Polri te...</td>\n",
       "      <td>tempo</td>\n",
       "    </tr>\n",
       "    <tr>\n",
       "      <th>4</th>\n",
       "      <td>87</td>\n",
       "      <td>0</td>\n",
       "      <td>2023-03-04 06:38:57+00</td>\n",
       "      <td>Bamsoet Ajak Komunitas Otomotif Kembangkan Per...</td>\n",
       "      <td>Ketua MPR RI Bambang Soesatyo telah diangkat s...</td>\n",
       "      <td>tempo</td>\n",
       "    </tr>\n",
       "  </tbody>\n",
       "</table>\n",
       "</div>"
      ],
      "text/plain": [
       "   id  label                    date  \\\n",
       "0  83      1  2023-03-04 06:18:13+00   \n",
       "1  84      0  2023-03-04 06:04:38+00   \n",
       "2  85      0  2023-03-04 06:18:04+00   \n",
       "3  86      0  2023-03-04 06:44:10+00   \n",
       "4  87      0  2023-03-04 06:38:57+00   \n",
       "\n",
       "                                               title  \\\n",
       "0  Depo Plumpang Terbakar, Anggota DPR Minta Pert...   \n",
       "1  Jokowi Perintahkan Wapres Ma'ruf Amin Tinjau L...   \n",
       "2  HNW Mendukung Jamaah Umroh First Travel Dapatk...   \n",
       "3  Tim Dokkes Polri Telah Terima 14 Kantong Jenaz...   \n",
       "4  Bamsoet Ajak Komunitas Otomotif Kembangkan Per...   \n",
       "\n",
       "                                             summary source  \n",
       "0  Anggota Komisi VII DPR RI Rofik Hananto menyay...  tempo  \n",
       "1  Presiden Joko Widodo telah memerintahkan Wakil...  tempo  \n",
       "2  Wakil Ketua MPR RI Dr. H. M. Hidayat Nur Wahid...  tempo  \n",
       "3  Tim Kedokteran dan Kesehatan (Dokkes) Polri te...  tempo  \n",
       "4  Ketua MPR RI Bambang Soesatyo telah diangkat s...  tempo  "
      ]
     },
     "execution_count": 5,
     "metadata": {},
     "output_type": "execute_result"
    }
   ],
   "source": [
    "news_df.head()"
   ]
  },
  {
   "cell_type": "code",
   "execution_count": 6,
   "metadata": {},
   "outputs": [
    {
     "data": {
      "text/plain": [
       "(22009, 6)"
      ]
     },
     "execution_count": 6,
     "metadata": {},
     "output_type": "execute_result"
    }
   ],
   "source": [
    "news_df.shape"
   ]
  },
  {
   "cell_type": "code",
   "execution_count": 7,
   "metadata": {},
   "outputs": [
    {
     "data": {
      "text/plain": [
       "id          0\n",
       "label       0\n",
       "date        0\n",
       "title       0\n",
       "summary    10\n",
       "source      0\n",
       "dtype: int64"
      ]
     },
     "execution_count": 7,
     "metadata": {},
     "output_type": "execute_result"
    }
   ],
   "source": [
    "news_df.isna().sum()"
   ]
  },
  {
   "cell_type": "code",
   "execution_count": 8,
   "metadata": {},
   "outputs": [],
   "source": [
    "news_df = news_df.fillna(' ')"
   ]
  },
  {
   "cell_type": "code",
   "execution_count": 9,
   "metadata": {},
   "outputs": [
    {
     "data": {
      "text/plain": [
       "id         0\n",
       "label      0\n",
       "date       0\n",
       "title      0\n",
       "summary    0\n",
       "source     0\n",
       "dtype: int64"
      ]
     },
     "execution_count": 9,
     "metadata": {},
     "output_type": "execute_result"
    }
   ],
   "source": [
    "news_df.isna().sum()"
   ]
  },
  {
   "cell_type": "code",
   "execution_count": 10,
   "metadata": {},
   "outputs": [],
   "source": [
    "news_df['konten'] = news_df['title']+\" \"+news_df['summary']"
   ]
  },
  {
   "cell_type": "code",
   "execution_count": 11,
   "metadata": {},
   "outputs": [
    {
     "data": {
      "text/html": [
       "<div>\n",
       "<style scoped>\n",
       "    .dataframe tbody tr th:only-of-type {\n",
       "        vertical-align: middle;\n",
       "    }\n",
       "\n",
       "    .dataframe tbody tr th {\n",
       "        vertical-align: top;\n",
       "    }\n",
       "\n",
       "    .dataframe thead th {\n",
       "        text-align: right;\n",
       "    }\n",
       "</style>\n",
       "<table border=\"1\" class=\"dataframe\">\n",
       "  <thead>\n",
       "    <tr style=\"text-align: right;\">\n",
       "      <th></th>\n",
       "      <th>id</th>\n",
       "      <th>label</th>\n",
       "      <th>date</th>\n",
       "      <th>title</th>\n",
       "      <th>summary</th>\n",
       "      <th>source</th>\n",
       "      <th>konten</th>\n",
       "    </tr>\n",
       "  </thead>\n",
       "  <tbody>\n",
       "    <tr>\n",
       "      <th>0</th>\n",
       "      <td>83</td>\n",
       "      <td>1</td>\n",
       "      <td>2023-03-04 06:18:13+00</td>\n",
       "      <td>Depo Plumpang Terbakar, Anggota DPR Minta Pert...</td>\n",
       "      <td>Anggota Komisi VII DPR RI Rofik Hananto menyay...</td>\n",
       "      <td>tempo</td>\n",
       "      <td>Depo Plumpang Terbakar, Anggota DPR Minta Pert...</td>\n",
       "    </tr>\n",
       "    <tr>\n",
       "      <th>1</th>\n",
       "      <td>84</td>\n",
       "      <td>0</td>\n",
       "      <td>2023-03-04 06:04:38+00</td>\n",
       "      <td>Jokowi Perintahkan Wapres Ma'ruf Amin Tinjau L...</td>\n",
       "      <td>Presiden Joko Widodo telah memerintahkan Wakil...</td>\n",
       "      <td>tempo</td>\n",
       "      <td>Jokowi Perintahkan Wapres Ma'ruf Amin Tinjau L...</td>\n",
       "    </tr>\n",
       "    <tr>\n",
       "      <th>2</th>\n",
       "      <td>85</td>\n",
       "      <td>0</td>\n",
       "      <td>2023-03-04 06:18:04+00</td>\n",
       "      <td>HNW Mendukung Jamaah Umroh First Travel Dapatk...</td>\n",
       "      <td>Wakil Ketua MPR RI Dr. H. M. Hidayat Nur Wahid...</td>\n",
       "      <td>tempo</td>\n",
       "      <td>HNW Mendukung Jamaah Umroh First Travel Dapatk...</td>\n",
       "    </tr>\n",
       "    <tr>\n",
       "      <th>3</th>\n",
       "      <td>86</td>\n",
       "      <td>0</td>\n",
       "      <td>2023-03-04 06:44:10+00</td>\n",
       "      <td>Tim Dokkes Polri Telah Terima 14 Kantong Jenaz...</td>\n",
       "      <td>Tim Kedokteran dan Kesehatan (Dokkes) Polri te...</td>\n",
       "      <td>tempo</td>\n",
       "      <td>Tim Dokkes Polri Telah Terima 14 Kantong Jenaz...</td>\n",
       "    </tr>\n",
       "    <tr>\n",
       "      <th>4</th>\n",
       "      <td>87</td>\n",
       "      <td>0</td>\n",
       "      <td>2023-03-04 06:38:57+00</td>\n",
       "      <td>Bamsoet Ajak Komunitas Otomotif Kembangkan Per...</td>\n",
       "      <td>Ketua MPR RI Bambang Soesatyo telah diangkat s...</td>\n",
       "      <td>tempo</td>\n",
       "      <td>Bamsoet Ajak Komunitas Otomotif Kembangkan Per...</td>\n",
       "    </tr>\n",
       "    <tr>\n",
       "      <th>...</th>\n",
       "      <td>...</td>\n",
       "      <td>...</td>\n",
       "      <td>...</td>\n",
       "      <td>...</td>\n",
       "      <td>...</td>\n",
       "      <td>...</td>\n",
       "      <td>...</td>\n",
       "    </tr>\n",
       "    <tr>\n",
       "      <th>22004</th>\n",
       "      <td>44725</td>\n",
       "      <td>0</td>\n",
       "      <td>2023-04-02 05:46:00+00</td>\n",
       "      <td>Indonesia Batal Jadi Tuan Rumah Piala Dunia U-...</td>\n",
       "      <td>Jokowi mengaku pusing dengan urusan Piala Duni...</td>\n",
       "      <td>tempo</td>\n",
       "      <td>Indonesia Batal Jadi Tuan Rumah Piala Dunia U-...</td>\n",
       "    </tr>\n",
       "    <tr>\n",
       "      <th>22005</th>\n",
       "      <td>44726</td>\n",
       "      <td>0</td>\n",
       "      <td>2023-04-02 05:58:27+00</td>\n",
       "      <td>Rentetan Kebakaran Pertamina 2023: Depo Plumpa...</td>\n",
       "      <td>Sejumlah kebakaran terjadi pada 2023 yang terk...</td>\n",
       "      <td>tempo</td>\n",
       "      <td>Rentetan Kebakaran Pertamina 2023: Depo Plumpa...</td>\n",
       "    </tr>\n",
       "    <tr>\n",
       "      <th>22006</th>\n",
       "      <td>44733</td>\n",
       "      <td>0</td>\n",
       "      <td>2023-04-02 06:00:00+00</td>\n",
       "      <td>Update Ledakan di Kilang Dumai: Pertamina Foku...</td>\n",
       "      <td>PT Kilang Pertamina Internasional (PT KPI) Ref...</td>\n",
       "      <td>cnbcindonesia</td>\n",
       "      <td>Update Ledakan di Kilang Dumai: Pertamina Foku...</td>\n",
       "    </tr>\n",
       "    <tr>\n",
       "      <th>22007</th>\n",
       "      <td>44745</td>\n",
       "      <td>0</td>\n",
       "      <td>2023-04-02 06:09:55+00</td>\n",
       "      <td>Rilis Lagu Marhaban Yaa Ramadhan Ayu Azhari Li...</td>\n",
       "      <td>Ayu Ting-Ting merilis single religi \"Marhaban ...</td>\n",
       "      <td>kumparan</td>\n",
       "      <td>Rilis Lagu Marhaban Yaa Ramadhan Ayu Azhari Li...</td>\n",
       "    </tr>\n",
       "    <tr>\n",
       "      <th>22008</th>\n",
       "      <td>44746</td>\n",
       "      <td>0</td>\n",
       "      <td>2023-04-02 06:05:27+00</td>\n",
       "      <td>Polisi Bakal Ekshumasi Jenazah Istri yang Dira...</td>\n",
       "      <td>Satreskrim Polres Tulang Bawang berencana mela...</td>\n",
       "      <td>kumparan</td>\n",
       "      <td>Polisi Bakal Ekshumasi Jenazah Istri yang Dira...</td>\n",
       "    </tr>\n",
       "  </tbody>\n",
       "</table>\n",
       "<p>22009 rows × 7 columns</p>\n",
       "</div>"
      ],
      "text/plain": [
       "          id  label                    date  \\\n",
       "0         83      1  2023-03-04 06:18:13+00   \n",
       "1         84      0  2023-03-04 06:04:38+00   \n",
       "2         85      0  2023-03-04 06:18:04+00   \n",
       "3         86      0  2023-03-04 06:44:10+00   \n",
       "4         87      0  2023-03-04 06:38:57+00   \n",
       "...      ...    ...                     ...   \n",
       "22004  44725      0  2023-04-02 05:46:00+00   \n",
       "22005  44726      0  2023-04-02 05:58:27+00   \n",
       "22006  44733      0  2023-04-02 06:00:00+00   \n",
       "22007  44745      0  2023-04-02 06:09:55+00   \n",
       "22008  44746      0  2023-04-02 06:05:27+00   \n",
       "\n",
       "                                                   title  \\\n",
       "0      Depo Plumpang Terbakar, Anggota DPR Minta Pert...   \n",
       "1      Jokowi Perintahkan Wapres Ma'ruf Amin Tinjau L...   \n",
       "2      HNW Mendukung Jamaah Umroh First Travel Dapatk...   \n",
       "3      Tim Dokkes Polri Telah Terima 14 Kantong Jenaz...   \n",
       "4      Bamsoet Ajak Komunitas Otomotif Kembangkan Per...   \n",
       "...                                                  ...   \n",
       "22004  Indonesia Batal Jadi Tuan Rumah Piala Dunia U-...   \n",
       "22005  Rentetan Kebakaran Pertamina 2023: Depo Plumpa...   \n",
       "22006  Update Ledakan di Kilang Dumai: Pertamina Foku...   \n",
       "22007  Rilis Lagu Marhaban Yaa Ramadhan Ayu Azhari Li...   \n",
       "22008  Polisi Bakal Ekshumasi Jenazah Istri yang Dira...   \n",
       "\n",
       "                                                 summary         source  \\\n",
       "0      Anggota Komisi VII DPR RI Rofik Hananto menyay...          tempo   \n",
       "1      Presiden Joko Widodo telah memerintahkan Wakil...          tempo   \n",
       "2      Wakil Ketua MPR RI Dr. H. M. Hidayat Nur Wahid...          tempo   \n",
       "3      Tim Kedokteran dan Kesehatan (Dokkes) Polri te...          tempo   \n",
       "4      Ketua MPR RI Bambang Soesatyo telah diangkat s...          tempo   \n",
       "...                                                  ...            ...   \n",
       "22004  Jokowi mengaku pusing dengan urusan Piala Duni...          tempo   \n",
       "22005  Sejumlah kebakaran terjadi pada 2023 yang terk...          tempo   \n",
       "22006  PT Kilang Pertamina Internasional (PT KPI) Ref...  cnbcindonesia   \n",
       "22007  Ayu Ting-Ting merilis single religi \"Marhaban ...       kumparan   \n",
       "22008  Satreskrim Polres Tulang Bawang berencana mela...       kumparan   \n",
       "\n",
       "                                                  konten  \n",
       "0      Depo Plumpang Terbakar, Anggota DPR Minta Pert...  \n",
       "1      Jokowi Perintahkan Wapres Ma'ruf Amin Tinjau L...  \n",
       "2      HNW Mendukung Jamaah Umroh First Travel Dapatk...  \n",
       "3      Tim Dokkes Polri Telah Terima 14 Kantong Jenaz...  \n",
       "4      Bamsoet Ajak Komunitas Otomotif Kembangkan Per...  \n",
       "...                                                  ...  \n",
       "22004  Indonesia Batal Jadi Tuan Rumah Piala Dunia U-...  \n",
       "22005  Rentetan Kebakaran Pertamina 2023: Depo Plumpa...  \n",
       "22006  Update Ledakan di Kilang Dumai: Pertamina Foku...  \n",
       "22007  Rilis Lagu Marhaban Yaa Ramadhan Ayu Azhari Li...  \n",
       "22008  Polisi Bakal Ekshumasi Jenazah Istri yang Dira...  \n",
       "\n",
       "[22009 rows x 7 columns]"
      ]
     },
     "execution_count": 11,
     "metadata": {},
     "output_type": "execute_result"
    }
   ],
   "source": [
    "news_df"
   ]
  },
  {
   "cell_type": "code",
   "execution_count": 12,
   "metadata": {},
   "outputs": [
    {
     "data": {
      "text/plain": [
       "0        Depo Plumpang Terbakar, Anggota DPR Minta Pert...\n",
       "1        Jokowi Perintahkan Wapres Ma'ruf Amin Tinjau L...\n",
       "2        HNW Mendukung Jamaah Umroh First Travel Dapatk...\n",
       "3        Tim Dokkes Polri Telah Terima 14 Kantong Jenaz...\n",
       "4        Bamsoet Ajak Komunitas Otomotif Kembangkan Per...\n",
       "                               ...                        \n",
       "22004    Indonesia Batal Jadi Tuan Rumah Piala Dunia U-...\n",
       "22005    Rentetan Kebakaran Pertamina 2023: Depo Plumpa...\n",
       "22006    Update Ledakan di Kilang Dumai: Pertamina Foku...\n",
       "22007    Rilis Lagu Marhaban Yaa Ramadhan Ayu Azhari Li...\n",
       "22008    Polisi Bakal Ekshumasi Jenazah Istri yang Dira...\n",
       "Name: konten, Length: 22009, dtype: object"
      ]
     },
     "execution_count": 12,
     "metadata": {},
     "output_type": "execute_result"
    }
   ],
   "source": [
    "news_df['konten']"
   ]
  },
  {
   "cell_type": "code",
   "execution_count": 13,
   "metadata": {},
   "outputs": [],
   "source": [
    "# stemming\n",
    "ps = PorterStemmer()\n",
    "def stemming(content):\n",
    "    stemmed_content = re.sub('[^a-zA-Z]',' ',content)\n",
    "    stemmed_content = stemmed_content.lower()\n",
    "    stemmed_content = stemmed_content.split()\n",
    "    stemmed_content = [ps.stem(word) for word in stemmed_content if not word in stopwords.words('indonesian')]\n",
    "    stemmed_content = ' '.join(stemmed_content)\n",
    "    return stemmed_content"
   ]
  },
  {
   "cell_type": "code",
   "execution_count": 14,
   "metadata": {},
   "outputs": [],
   "source": [
    "news_df['konten'] = news_df['konten'].apply(stemming) "
   ]
  },
  {
   "cell_type": "code",
   "execution_count": null,
   "metadata": {},
   "outputs": [
    {
     "data": {
      "text/plain": [
       "0        depo plumpang terbakar anggota dpr pertamina p...\n",
       "1        jokowi perintahkan wapr ma ruf amin tinjau lok...\n",
       "2        hnw mendukung jamaah umroh first travel dapatk...\n",
       "3        tim dokk polri terima kantong jenazah korban k...\n",
       "4        bamsoet ajak komunita otomotif kembangkan pere...\n",
       "                               ...                        \n",
       "22004    indonesia batal tuan rumah piala dunia u jokow...\n",
       "22005    rentetan kebakaran pertamina depo plumpang kap...\n",
       "22006    updat ledakan kilang dumai pertamina foku pemu...\n",
       "22007    rili lagu marhaban yaa ramadhan ayu azhari lib...\n",
       "22008    polisi ekshumasi jenazah istri diracun suaminy...\n",
       "Name: konten, Length: 22009, dtype: object"
      ]
     },
     "execution_count": 35,
     "metadata": {},
     "output_type": "execute_result"
    }
   ],
   "source": [
    "news_df['konten']"
   ]
  },
  {
   "cell_type": "code",
   "execution_count": null,
   "metadata": {},
   "outputs": [],
   "source": [
    "X = news_df['konten'].values\n",
    "y = news_df['label'].values"
   ]
  },
  {
   "cell_type": "code",
   "execution_count": null,
   "metadata": {},
   "outputs": [
    {
     "name": "stdout",
     "output_type": "stream",
     "text": [
      "['depo plumpang terbakar anggota dpr pertamina pastikan pasokan bbm terganggu anggota komisi vii dpr ri rofik hananto menyayangkan insiden kebakaran depo plumpang jakarta utara jumat maret rofik pertamina pasokan bahan bakar minyak aman insiden depo plumpang merupak'\n",
      " 'jokowi perintahkan wapr ma ruf amin tinjau lokasi kebakaran depo plumpang presiden joko widodo memerintahkan wakil presiden ma ruf amin meninjau langsung lokasi kebakaran depo pertamina plumpang jakarta utara kebakaran lokasi jumat malam maret mengakibatkan belasan warga dep'\n",
      " 'hnw mendukung jamaah umroh first travel dapatkan haknya wakil ketua mpr ri dr h m hidayat nur wahid ma hnw menerima kunjungan perwakilan korban biro perjalanan haji umroh first travel tergabung paguyuban first travel indonesia pertemuan ruang kerja wakil ketua mpr gedung n'\n",
      " ...\n",
      " 'updat ledakan kilang dumai pertamina foku pemulihan pt kilang pertamina internasion pt kpi refineri unit ru dumai beroperasi kejadian area ga compressor beralih prose recoveri kilang warga terdampak rumah warga mengalami kerusakan minor pt kpi ru dumai menanggulangi kerusakan prose investigasi penyebab insiden sembilan orang pekerja pertolongan terkena pecahan kaca pertamina bertanggung dampak timbul'\n",
      " 'rili lagu marhaban yaa ramadhan ayu azhari libatkan suami buah hati ayu ting ting merili singl religi marhaban yaa ramadhan ciptakan keluarganya isabel azhari lennon azhari maryam azhari sang suami mengaransemen lagu ayu berharap lagu semangat menjalankan ibadah ramadhan membawa berkah keluarga lingkungan nusa bangsa video klip ditonton kanal youtub the azhari s'\n",
      " 'polisi ekshumasi jenazah istri diracun suaminya lampung satreskrim polr tulang bawang berencana ekshumasi korban diracun puta suaminya minggu penyebab utama kematian korban pelaku pembunuhan berencana sakit hati lantaran korban menghalangi pelaku menikahi adik kandungnya kepolisian penyitaan barang bukti pembunuhan unit handphon plastik pembungku paket benda benda meracuni korban']\n"
     ]
    }
   ],
   "source": [
    "print(X)"
   ]
  },
  {
   "cell_type": "code",
   "execution_count": null,
   "metadata": {},
   "outputs": [],
   "source": [
    "vector = TfidfVectorizer()\n",
    "vector.fit(X)\n",
    "X = vector.transform(X)"
   ]
  },
  {
   "cell_type": "code",
   "execution_count": null,
   "metadata": {},
   "outputs": [
    {
     "name": "stdout",
     "output_type": "stream",
     "text": [
      "  (0, 36612)\t0.16055543294875263\n",
      "  (0, 36432)\t0.09841040439707406\n",
      "  (0, 34595)\t0.14521556859541587\n",
      "  (0, 34464)\t0.12166255163766222\n",
      "  (0, 29892)\t0.4355591515017619\n",
      "  (0, 29666)\t0.07653943195492247\n",
      "  (0, 27697)\t0.3709626409444876\n",
      "  (0, 27164)\t0.20838780949538377\n",
      "  (0, 24990)\t0.12626631539787259\n",
      "  (0, 24976)\t0.24468851979230327\n",
      "  (0, 22402)\t0.1114118282277803\n",
      "  (0, 22112)\t0.21777957575088094\n",
      "  (0, 21738)\t0.1432636165746843\n",
      "  (0, 19111)\t0.07288371318120136\n",
      "  (0, 16687)\t0.0951105527350968\n",
      "  (0, 14972)\t0.10864184632698183\n",
      "  (0, 14240)\t0.10834210905547727\n",
      "  (0, 13665)\t0.06875679913487812\n",
      "  (0, 13142)\t0.24538708522871255\n",
      "  (0, 11686)\t0.21777957575088094\n",
      "  (0, 8883)\t0.17274713927707358\n",
      "  (0, 6531)\t0.368433795163236\n",
      "  (0, 2658)\t0.11412560940609509\n",
      "  (0, 2189)\t0.12427759582605097\n",
      "  (0, 2131)\t0.10540172624028797\n",
      "  :\t:\n",
      "  (22008, 25544)\t0.18242522877827838\n",
      "  (22008, 25233)\t0.1400463856433975\n",
      "  (22008, 24546)\t0.10847637778027383\n",
      "  (22008, 22361)\t0.09452250288570482\n",
      "  (22008, 21921)\t0.18989616661270434\n",
      "  (22008, 21415)\t0.14657066703114874\n",
      "  (22008, 21105)\t0.14062337366364955\n",
      "  (22008, 17653)\t0.1298637835361721\n",
      "  (22008, 17602)\t0.09930993653955245\n",
      "  (22008, 16949)\t0.26279221649303824\n",
      "  (22008, 15769)\t0.08797659634779958\n",
      "  (22008, 15494)\t0.10782214574683055\n",
      "  (22008, 14571)\t0.1568819236084065\n",
      "  (22008, 13930)\t0.11355642402685093\n",
      "  (22008, 13502)\t0.08895053360657958\n",
      "  (22008, 11910)\t0.10035120791240461\n",
      "  (22008, 11704)\t0.13022157341599389\n",
      "  (22008, 9258)\t0.3797923332254087\n",
      "  (22008, 7976)\t0.3460259204850734\n",
      "  (22008, 4728)\t0.08623704127993659\n",
      "  (22008, 3111)\t0.19107795310554943\n",
      "  (22008, 2850)\t0.2462310217361425\n",
      "  (22008, 2614)\t0.1257522297509404\n",
      "  (22008, 2447)\t0.07868880084549794\n",
      "  (22008, 207)\t0.12017020266825429\n"
     ]
    }
   ],
   "source": [
    "print(X)"
   ]
  },
  {
   "cell_type": "code",
   "execution_count": null,
   "metadata": {},
   "outputs": [],
   "source": [
    "X_train, X_test, y_train, y_test = train_test_split(X, y, test_size=0.2, stratify=y, random_state=1)"
   ]
  },
  {
   "cell_type": "code",
   "execution_count": null,
   "metadata": {},
   "outputs": [
    {
     "data": {
      "text/plain": [
       "(17607, 37829)"
      ]
     },
     "execution_count": 42,
     "metadata": {},
     "output_type": "execute_result"
    }
   ],
   "source": [
    "X_train.shape"
   ]
  },
  {
   "cell_type": "code",
   "execution_count": null,
   "metadata": {},
   "outputs": [
    {
     "data": {
      "text/plain": [
       "(4402, 37829)"
      ]
     },
     "execution_count": 43,
     "metadata": {},
     "output_type": "execute_result"
    }
   ],
   "source": [
    "X_test.shape"
   ]
  },
  {
   "cell_type": "code",
   "execution_count": null,
   "metadata": {},
   "outputs": [
    {
     "data": {
      "text/plain": [
       "LogisticRegression()"
      ]
     },
     "execution_count": 44,
     "metadata": {},
     "output_type": "execute_result"
    }
   ],
   "source": [
    "model = LogisticRegression()\n",
    "model.fit(X_train,y_train)"
   ]
  },
  {
   "cell_type": "code",
   "execution_count": null,
   "metadata": {},
   "outputs": [
    {
     "name": "stdout",
     "output_type": "stream",
     "text": [
      "train accurracy : 0.7753166354290907\n"
     ]
    }
   ],
   "source": [
    "train_y_pred = model.predict(X_train)\n",
    "print(\"train accurracy :\",accuracy_score(train_y_pred,y_train))"
   ]
  },
  {
   "cell_type": "code",
   "execution_count": null,
   "metadata": {},
   "outputs": [
    {
     "name": "stdout",
     "output_type": "stream",
     "text": [
      "train accurracy : 0.5327124034529759\n"
     ]
    }
   ],
   "source": [
    "test_y_pred = model.predict(X_test)\n",
    "print(\"train accurracy :\",accuracy_score(test_y_pred,y_test))"
   ]
  },
  {
   "cell_type": "code",
   "execution_count": null,
   "metadata": {},
   "outputs": [
    {
     "name": "stdout",
     "output_type": "stream",
     "text": [
      "Real news\n"
     ]
    }
   ],
   "source": [
    "# prediction system\n",
    "\n",
    "input_data = X_test[10].reshape(1, -1)\n",
    "prediction = model.predict(input_data)\n",
    "if prediction[0] == 1:\n",
    "    print('Fake news')\n",
    "else:\n",
    "    print('Real news')"
   ]
  },
  {
   "cell_type": "code",
   "execution_count": null,
   "metadata": {},
   "outputs": [
    {
     "data": {
      "text/plain": [
       "'erick thohir heru dirut pertamina langsung baha nasib depo plumpang diperintah jokowi kebakaran depo pertamina presiden jokowi memerintahkan pertamina gubernur dki jakarta menteri bumn mencari solusi opsi depo dipindah warga tinggal direlokasi wakil presiden ma ruf amin memilih dipindahkan pelabuhan jokowi menyebut depo pertamina plumpang zona bahaya zona air'"
      ]
     },
     "execution_count": 48,
     "metadata": {},
     "output_type": "execute_result"
    }
   ],
   "source": [
    "news_df['konten'][10]"
   ]
  }
 ],
 "metadata": {
  "kernelspec": {
   "display_name": "Python 3",
   "language": "python",
   "name": "python3"
  },
  "language_info": {
   "codemirror_mode": {
    "name": "ipython",
    "version": 3
   },
   "file_extension": ".py",
   "mimetype": "text/x-python",
   "name": "python",
   "nbconvert_exporter": "python",
   "pygments_lexer": "ipython3",
   "version": "3.7.6"
  }
 },
 "nbformat": 4,
 "nbformat_minor": 2
}
